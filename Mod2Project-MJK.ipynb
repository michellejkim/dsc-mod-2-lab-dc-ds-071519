{
 "cells": [
  {
   "cell_type": "markdown",
   "metadata": {},
   "source": [
    "Goal:\n",
    "Create a MongoDB database of every unique team in the Kaggle Football Delphi database. \n",
    "\n",
    "Include: Team name, 2011 total goals, 2011 total wins, histogram of team's wins and losses, Rainy Day Win Percentage (proxy rain in Berlin, Germany) in 2011\n",
    "\n",
    "MongoDB is a document structure with collecions of documents. \n",
    "Each document is a dictionary:\n",
    "{ key1: entry1, key2: entry3..}\n",
    "where each entry can be any type: strings, integers, lists, lists of other documents"
   ]
  },
  {
   "cell_type": "code",
   "execution_count": 1,
   "metadata": {},
   "outputs": [],
   "source": [
    "import sqlite3\n",
    "import pandas as pd\n",
    "connection = sqlite3.connect('database.sqlite')\n",
    "c = connection.cursor()"
   ]
  },
  {
   "cell_type": "code",
   "execution_count": 3,
   "metadata": {},
   "outputs": [],
   "source": [
    "# Tables\n",
    "c.execute('select name from sqlite_master where type = \"table\"').fetchall()"
   ]
  },
  {
   "cell_type": "code",
   "execution_count": 4,
   "metadata": {},
   "outputs": [],
   "source": [
    "# Columns for Respective Tables\n",
    "for table in c.execute('select name from sqlite_master where type = \"table\"').fetchall():\n",
    "    val = table[0]\n",
    "    c.execute(f\"select * from {val}\")\n",
    "    print([x[0] for x in c.description])"
   ]
  },
  {
   "cell_type": "code",
   "execution_count": 1,
   "metadata": {},
   "outputs": [],
   "source": [
    "# Matches: Match_ID, Div, Season, Date, HomeTeam, AwayTeam, FTHG, FTAG, FTR\n",
    "# pd.DataFrame(c.execute(\"select * from Matches where Season == 2011 and (HomeTeam = 'Bayern Munic' or AwayTeam == 'Bayern Munich')\").fetchall(),columns = [x[0] for x in c.description])\n",
    "\n",
    "# Teams_in_Matches: Match_ID, Unique_Team_ID\n",
    "# two rows per match, listing each team ID\n",
    "# pd.DataFrame(c.execute(\"select * from Teams_in_Matches\").fetchall(),columns = [x[0] for x in c.description])\n",
    "\n",
    "# Teams: Season, TeamName, KaderHome, AvgAgeHome, ForeignPlayersHome, OverallMarketValueHome, AvgMarketValueHome, StadiumCapacity\n",
    "# rows include Each Team, Season\n",
    "#  pd.DataFrame(c.execute(\"select * from Teams where Season == 2011\").fetchall(),columns = [x[0] for x in c.description])\n",
    "\n",
    "# Unique Teams: TeamName, Unique_Team_ID\n",
    "# pd.DataFrame(c.execute(\"select * from Unique_Teams\").fetchall(),columns = [x[0] for x in c.description])"
   ]
  },
  {
   "cell_type": "code",
   "execution_count": 6,
   "metadata": {},
   "outputs": [],
   "source": [
    "# Index of our Final Table\n",
    "teams = pd.DataFrame(c.execute(\"\"\"select TeamName, Unique_Team_ID from Teams join Unique_Teams using(TeamName) where Season == 2011 order by TeamName\"\"\").fetchall(),columns = [x[0] for x in c.description])"
   ]
  },
  {
   "cell_type": "code",
   "execution_count": 12,
   "metadata": {},
   "outputs": [],
   "source": [
    "# Retrieve Weather Data from Match Days\n",
    "\n",
    "# We only need to know if it rained the day the team played. \n",
    "date_series = pd.DataFrame(c.execute(\"\"\"select Date \n",
    "                        from Matches\n",
    "                        where Season == 2011\n",
    "                        order by Date\"\"\").fetchall(),columns = [x[0] for x in c.description])\n",
    "\n",
    "date_series = date_series.Date.unique() # returns array of strings"
   ]
  },
  {
   "cell_type": "code",
   "execution_count": 30,
   "metadata": {},
   "outputs": [
    {
     "data": {
      "text/plain": [
       "165"
      ]
     },
     "execution_count": 30,
     "metadata": {},
     "output_type": "execute_result"
    }
   ],
   "source": [
    "# Convert to DateTime\n",
    "from datetime import datetime\n",
    "date_datetime = pd.to_datetime(date_series, format='%Y-%m-%d') # this is local timezone\n",
    "epoch_time = list((date_datetime.unique() - datetime(1970,1,1,1,0,0)).total_seconds()) # start of epoch time in Germany, shouldn't really matter except to shift the 24 hour window that we look for rain\n",
    "epoch_time = [int(x) for x in epoch_time]"
   ]
  },
  {
   "cell_type": "code",
   "execution_count": 85,
   "metadata": {},
   "outputs": [],
   "source": [
    "# Merge in Weather Data\n",
    "import requests\n",
    "import dark_sky_key\n",
    "\n",
    "# UNIT TEST: Berlin Coordinates {+52.5200° N, + 13.4050° E}\n",
    "time = int(epoch_time[0])\n",
    "dark_sky_url = f'https://api.darksky.net/forecast/{dark_sky_key.key}/52.5200,13.4050,{time}?exclude=currently,hourly'\n",
    "response = requests.get(dark_sky_url)"
   ]
  },
  {
   "cell_type": "code",
   "execution_count": 255,
   "metadata": {},
   "outputs": [],
   "source": [
    "# Call DarkSky API for data or see next cell to load pickle/CSV\n",
    "\n",
    "# rain_data = []\n",
    "# for i, game in enumerate(epoch_time):\n",
    "#     time = int(game)\n",
    "#     dark_sky_url = f'https://api.darksky.net/forecast/{dark_sky_key.key}/52.5200,13.4050,{time}?exclude=currently,hourly'\n",
    "#     #response = requests.get(dark_sky_url)\n",
    "#     if response.status_code == 200:\n",
    "#         doc = response.json()\n",
    "#         rain_day = {'precipIntensity':doc['daily']['data'][0]['precipIntensity'],\n",
    "#                     'precipIntensityMax':doc['daily']['data'][0]['precipIntensityMax'],\n",
    "#                     'precipProbability':doc['daily']['data'][0]['precipProbability']\n",
    "#                    }\n",
    "#         rain_data.append(rain_day)\n",
    "#     else:\n",
    "#         break\n",
    "        \n",
    "# # Save to CSV\n",
    "# pd.DataFrame(rain_data).to_csv('DarkSkyRainDataShort.csv')\n",
    "\n",
    "# # Pickle\n",
    "# import pickle\n",
    "# with open('historicalRainDarkSkyAPIshort.pickle', 'wb') as f:\n",
    "#     pickle.dump(rain_data, f)"
   ]
  },
  {
   "cell_type": "code",
   "execution_count": 37,
   "metadata": {},
   "outputs": [],
   "source": [
    "# Load from Pickle\n",
    "import pickle\n",
    "file = open(\"historicalRainDarkSkyAPI.pickle\",'rb')\n",
    "rain_data = pickle.load(file)"
   ]
  },
  {
   "cell_type": "code",
   "execution_count": 44,
   "metadata": {},
   "outputs": [
    {
     "data": {
      "text/plain": [
       "992"
      ]
     },
     "execution_count": 44,
     "metadata": {},
     "output_type": "execute_result"
    }
   ],
   "source": [
    "# Provide Date Primary Key for Rain Data\n",
    "weather = pd.DataFrame()\n",
    "weather['Date'] = date_datetime\n",
    "\n",
    "# Clean Up Rain Data (drop duplicates if you want)\n",
    "# Generate Rain Mask\n",
    "final = pd.concat([weather,pd.DataFrame(rain_data)],axis = 1)\n",
    "final['Rain'] = [1 if x > 0 else 0 for x in final.precipIntensityMax ]\n",
    "final.drop(['precipIntensity', 'precipIntensityMax', 'precipProbability'],axis=1,inplace = True)\n",
    "final.reset_index(inplace = True)\n",
    "final.drop('index',axis=1,inplace=True)\n",
    "\n",
    "final['Date'] = [str(x)[0:10] for x in final.Date]"
   ]
  },
  {
   "cell_type": "code",
   "execution_count": 45,
   "metadata": {},
   "outputs": [],
   "source": [
    "# Convert to Tuples for SQLite Table\n",
    "arg_tuples = [tuple(x) for x in final.values]"
   ]
  },
  {
   "cell_type": "code",
   "execution_count": 47,
   "metadata": {},
   "outputs": [],
   "source": [
    "# Add Rain Data to SQLite\n",
    "c.execute(\"\"\"create table match_rain (Date TEXT PRIMARY KEY,\n",
    "                                      Rain INTEGER);\"\"\")\n",
    "\n",
    "c.executemany(\"insert into match_rain values (?,?)\",arg_tuples)\n",
    "connection.commit()"
   ]
  },
  {
   "cell_type": "code",
   "execution_count": 64,
   "metadata": {},
   "outputs": [],
   "source": [
    "# Merge this in Pandas to make sure it looks ok\n",
    "matches = pd.DataFrame(c.execute(\"select * from Matches where Season == 2011\").fetchall(),columns = [x[0] for x in c.description])\n",
    "matches.merge(final,on='Date').sort_values(by = 'Date')\n",
    "# looks good"
   ]
  },
  {
   "cell_type": "code",
   "execution_count": 71,
   "metadata": {},
   "outputs": [
    {
     "data": {
      "text/html": [
       "<div>\n",
       "<style scoped>\n",
       "    .dataframe tbody tr th:only-of-type {\n",
       "        vertical-align: middle;\n",
       "    }\n",
       "\n",
       "    .dataframe tbody tr th {\n",
       "        vertical-align: top;\n",
       "    }\n",
       "\n",
       "    .dataframe thead th {\n",
       "        text-align: right;\n",
       "    }\n",
       "</style>\n",
       "<table border=\"1\" class=\"dataframe\">\n",
       "  <thead>\n",
       "    <tr style=\"text-align: right;\">\n",
       "      <th></th>\n",
       "      <th>Match_ID</th>\n",
       "      <th>Div</th>\n",
       "      <th>Season</th>\n",
       "      <th>Date</th>\n",
       "      <th>HomeTeam</th>\n",
       "      <th>AwayTeam</th>\n",
       "      <th>FTHG</th>\n",
       "      <th>FTAG</th>\n",
       "      <th>FTR</th>\n",
       "      <th>Rain</th>\n",
       "    </tr>\n",
       "  </thead>\n",
       "  <tbody>\n",
       "    <tr>\n",
       "      <th>0</th>\n",
       "      <td>1092</td>\n",
       "      <td>D1</td>\n",
       "      <td>2011</td>\n",
       "      <td>2012-03-31</td>\n",
       "      <td>Nurnberg</td>\n",
       "      <td>Bayern Munich</td>\n",
       "      <td>0</td>\n",
       "      <td>1</td>\n",
       "      <td>A</td>\n",
       "      <td>1</td>\n",
       "    </tr>\n",
       "    <tr>\n",
       "      <th>1</th>\n",
       "      <td>1093</td>\n",
       "      <td>D1</td>\n",
       "      <td>2011</td>\n",
       "      <td>2011-12-11</td>\n",
       "      <td>Stuttgart</td>\n",
       "      <td>Bayern Munich</td>\n",
       "      <td>1</td>\n",
       "      <td>2</td>\n",
       "      <td>A</td>\n",
       "      <td>0</td>\n",
       "    </tr>\n",
       "    <tr>\n",
       "      <th>2</th>\n",
       "      <td>1094</td>\n",
       "      <td>D1</td>\n",
       "      <td>2011</td>\n",
       "      <td>2011-08-13</td>\n",
       "      <td>Wolfsburg</td>\n",
       "      <td>Bayern Munich</td>\n",
       "      <td>0</td>\n",
       "      <td>1</td>\n",
       "      <td>A</td>\n",
       "      <td>0</td>\n",
       "    </tr>\n",
       "    <tr>\n",
       "      <th>3</th>\n",
       "      <td>1095</td>\n",
       "      <td>D1</td>\n",
       "      <td>2011</td>\n",
       "      <td>2011-11-27</td>\n",
       "      <td>Mainz</td>\n",
       "      <td>Bayern Munich</td>\n",
       "      <td>3</td>\n",
       "      <td>2</td>\n",
       "      <td>H</td>\n",
       "      <td>0</td>\n",
       "    </tr>\n",
       "    <tr>\n",
       "      <th>4</th>\n",
       "      <td>1096</td>\n",
       "      <td>D1</td>\n",
       "      <td>2011</td>\n",
       "      <td>2012-02-18</td>\n",
       "      <td>Freiburg</td>\n",
       "      <td>Bayern Munich</td>\n",
       "      <td>0</td>\n",
       "      <td>0</td>\n",
       "      <td>D</td>\n",
       "      <td>0</td>\n",
       "    </tr>\n",
       "  </tbody>\n",
       "</table>\n",
       "</div>"
      ],
      "text/plain": [
       "   Match_ID Div  Season        Date   HomeTeam       AwayTeam  FTHG  FTAG FTR  \\\n",
       "0      1092  D1    2011  2012-03-31   Nurnberg  Bayern Munich     0     1   A   \n",
       "1      1093  D1    2011  2011-12-11  Stuttgart  Bayern Munich     1     2   A   \n",
       "2      1094  D1    2011  2011-08-13  Wolfsburg  Bayern Munich     0     1   A   \n",
       "3      1095  D1    2011  2011-11-27      Mainz  Bayern Munich     3     2   H   \n",
       "4      1096  D1    2011  2012-02-18   Freiburg  Bayern Munich     0     0   D   \n",
       "\n",
       "   Rain  \n",
       "0     1  \n",
       "1     0  \n",
       "2     0  \n",
       "3     0  \n",
       "4     0  "
      ]
     },
     "execution_count": 71,
     "metadata": {},
     "output_type": "execute_result"
    }
   ],
   "source": [
    "pd.DataFrame(c.execute(\"\"\"select * from Matches join match_rain using(Date)\"\"\").fetchall(),columns = [s[0] for s in c.description]).head()"
   ]
  },
  {
   "cell_type": "code",
   "execution_count": 72,
   "metadata": {},
   "outputs": [],
   "source": [
    "# New Tables for Team's Home and Away Performances in 2011\n",
    "home_stats = c.execute(\"\"\"select HomeTeam, sum(FTHG) as HomeGoals, sum(FTR=='H') as HomeWins, Sum(Rain) as HomeRain, Sum(Rain and FTR=='H') as HomeRainyWins\n",
    "                        from Matches\n",
    "                        join match_rain using(Date)\n",
    "                        group by HomeTeam, Season\n",
    "                        having Season == 2011\"\"\").fetchall()\n",
    "\n",
    "away_stats = c.execute(\"\"\"select AwayTeam, sum(FTAG) as AwayGoals, sum(FTR=='A') as AwayWins, Sum(Rain) as AwayRain, Sum(Rain and FTR=='A') as AwayRainyWins\n",
    "                        from Matches                        \n",
    "                        join match_rain using(Date)\n",
    "                        group by AwayTeam, Seasonbb\n",
    "                        having Season == 2011\"\"\").fetchall()"
   ]
  },
  {
   "cell_type": "code",
   "execution_count": 84,
   "metadata": {},
   "outputs": [],
   "source": [
    "# Home and Away Tables in Database to merge on to 2011 Teams\n",
    "c.execute(\"\"\"create table home_stats (TeamName TEXT PRIMARY KEY,\n",
    "                                      HomeGoals INTEGER,\n",
    "                                      HomeWins INTEGER,\n",
    "                                      HomeRainGames INTEGER,\n",
    "                                      HomeRainWins INTEGER);\"\"\")\n",
    "c.executemany(\"insert into home_stats values (?,?,?,?,?)\",home_stats)\n",
    "\n",
    "c.execute(\"\"\"create table away_stats (TeamName PRIMARY KEY,\n",
    "                                      AwayGoals INTEGER,\n",
    "                                      AwayWins INTEGER,\n",
    "                                      AwayRainGames INTEGER,\n",
    "                                      AwayRainWins INTEGER)\"\"\")\n",
    "c.executemany(\"insert into away_stats values (?,?,?,?,?)\",away_stats)\n",
    "connection.commit()"
   ]
  },
  {
   "cell_type": "code",
   "execution_count": 137,
   "metadata": {},
   "outputs": [],
   "source": [
    "# Merge\n",
    "test = pd.DataFrame(c.execute(\"\"\"select TeamName, Unique_Team_ID, HomeGoals+AwayGoals as TotalGoals, HomeWins + AwayWins as Wins, ((HomeRainWins + AwayRainWins) *100) / (HomeRainGames+AwayRainGames) as RainyWinPerc\n",
    "                        from Teams \n",
    "                        join Unique_Teams using(TeamName) \n",
    "                        join home_stats using(TeamName)\n",
    "                        join away_stats using(TeamName)\n",
    "                        where Season == 2011 order by TeamName\"\"\").fetchall(),columns = [x[0] for x in c.description])"
   ]
  },
  {
   "cell_type": "code",
   "execution_count": null,
   "metadata": {},
   "outputs": [],
   "source": []
  },
  {
   "cell_type": "code",
   "execution_count": 151,
   "metadata": {},
   "outputs": [],
   "source": [
    "class MongoEntry():\n",
    "    def __init__(self,name=''):\n",
    "        self.name = name\n",
    "    def to_dict(self,data):\n",
    "        if type(data) == pd.core.frame.DataFrame:\n",
    "            self.data = test.to_dict(orient = 'records')\n",
    "        if type(data) == list and type(data[0]) == tuple:\n",
    "            cols = ['TeamName','Unique_Team_ID','TotalGoals','Wins','RainyWinPerc']\n",
    "            self.data = pd.DataFrame(data,columns = cols).to_dict(orient = 'records')  "
   ]
  },
  {
   "cell_type": "code",
   "execution_count": 152,
   "metadata": {},
   "outputs": [],
   "source": [
    "mongo = MongoEntry()\n",
    "mongo.to_dict(test)"
   ]
  },
  {
   "cell_type": "code",
   "execution_count": 155,
   "metadata": {},
   "outputs": [],
   "source": [
    "# Final Step\n",
    "import pymongo\n",
    "local_instance = pymongo.MongoClient(\"mongodb://127.0.0.1:27017/\")\n",
    "delphi_db = local_instance['DelphiFootball2011']\n",
    "delphi_collection = delphi_db['Season2011']\n",
    "\n",
    "# recall this datbase does not exist in the server until you populate it\n",
    "\n",
    "insert_result = delphi_collection.insert_many(mongo.data)"
   ]
  },
  {
   "cell_type": "code",
   "execution_count": null,
   "metadata": {},
   "outputs": [],
   "source": [
    "# What sort of histogram do they want? Need uncollapsed data. Goals in wins/losses? Rain or not rain?"
   ]
  }
 ],
 "metadata": {
  "kernelspec": {
   "display_name": "Python 3",
   "language": "python",
   "name": "python3"
  },
  "language_info": {
   "codemirror_mode": {
    "name": "ipython",
    "version": 3
   },
   "file_extension": ".py",
   "mimetype": "text/x-python",
   "name": "python",
   "nbconvert_exporter": "python",
   "pygments_lexer": "ipython3",
   "version": "3.7.3"
  }
 },
 "nbformat": 4,
 "nbformat_minor": 2
}
